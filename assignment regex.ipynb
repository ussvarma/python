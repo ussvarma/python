{
 "cells": [
  {
   "cell_type": "markdown",
   "metadata": {},
   "source": [
    "# Assignment 1: \n",
    "\"This#string%contains^special*characters&.\";   \n",
    " \n",
    "I want string without all special characters from above string\n",
    "\n",
    "\n"
   ]
  },
  {
   "cell_type": "code",
   "execution_count": 1,
   "metadata": {},
   "outputs": [
    {
     "name": "stdout",
     "output_type": "stream",
     "text": [
      "This string contains special characters .\n"
     ]
    }
   ],
   "source": [
    "import re\n",
    "print(re.sub('[#%^*&]', ' ', 'This#string%contains^special*characters&.',\n",
    "             flags=re.IGNORECASE))"
   ]
  },
  {
   "cell_type": "markdown",
   "metadata": {},
   "source": [
    "# Assignment 2\n",
    "\n",
    "read any text file from current directory try to find vowels from it as well as print occurances of all words in a dictionary\n"
   ]
  },
  {
   "cell_type": "code",
   "execution_count": 39,
   "metadata": {},
   "outputs": [
    {
     "name": "stdout",
     "output_type": "stream",
     "text": [
      "['e', 'o']['i', 'i', 'e', 'i']['i', 'i', 'a', 'i']['i', 'i', 'o', 'o']"
     ]
    }
   ],
   "source": [
    "text = open(\"myfile.txt\", \"r\")\n",
    "p = re.compile('[aeiou]')\n",
    "for line in text:\n",
    "    print(p.findall(line),end=\"\")"
   ]
  },
  {
   "cell_type": "code",
   "execution_count": 41,
   "metadata": {},
   "outputs": [
    {
     "name": "stdout",
     "output_type": "stream",
     "text": [
      "{'Hello': 1, 'This': 3, 'is': 3, 'Delhi': 1, 'Paris': 1, 'London': 1}\n"
     ]
    }
   ],
   "source": [
    "text = open(\"myfile.txt\", \"r\")\n",
    "d={}\n",
    "for line in text:\n",
    "    line=line.strip()\n",
    "    #print(line)\n",
    "    words = line.split(\" \")\n",
    "    for word in words:\n",
    "        if word in d:\n",
    "            d[word]+=1\n",
    "        else:\n",
    "            d[word]=1\n",
    "print(d)\n"
   ]
  },
  {
   "cell_type": "code",
   "execution_count": null,
   "metadata": {},
   "outputs": [],
   "source": []
  }
 ],
 "metadata": {
  "kernelspec": {
   "display_name": "Python 3",
   "language": "python",
   "name": "python3"
  },
  "language_info": {
   "codemirror_mode": {
    "name": "ipython",
    "version": 3
   },
   "file_extension": ".py",
   "mimetype": "text/x-python",
   "name": "python",
   "nbconvert_exporter": "python",
   "pygments_lexer": "ipython3",
   "version": "3.8.10"
  }
 },
 "nbformat": 4,
 "nbformat_minor": 4
}
