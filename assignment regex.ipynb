{
 "cells": [
  {
   "cell_type": "markdown",
   "metadata": {},
   "source": [
    "# method overloading (inheritance)"
   ]
  },
  {
   "cell_type": "markdown",
   "metadata": {},
   "source": [
    "## Method overloading can be achieved by the following:\n",
    "\n",
    "By changing the number of parameters in a method\n",
    "\n",
    "By changing the order of parameters in a method\n",
    "\n",
    "By using different data types for parameters\n"
   ]
  },
  {
   "cell_type": "code",
   "execution_count": 1,
   "metadata": {},
   "outputs": [
    {
     "ename": "TypeError",
     "evalue": "__init__() missing 1 required positional argument: 'items'",
     "output_type": "error",
     "traceback": [
      "\u001b[0;31m---------------------------------------------------------------------------\u001b[0m",
      "\u001b[0;31mTypeError\u001b[0m                                 Traceback (most recent call last)",
      "\u001b[0;32m<ipython-input-1-57ea496a4e4d>\u001b[0m in \u001b[0;36m<module>\u001b[0;34m\u001b[0m\n\u001b[1;32m      7\u001b[0m             \u001b[0ms\u001b[0m\u001b[0;34m+=\u001b[0m\u001b[0mx\u001b[0m\u001b[0;34m\u001b[0m\u001b[0;34m\u001b[0m\u001b[0m\n\u001b[1;32m      8\u001b[0m         \u001b[0;32mreturn\u001b[0m \u001b[0ms\u001b[0m\u001b[0;34m\u001b[0m\u001b[0;34m\u001b[0m\u001b[0m\n\u001b[0;32m----> 9\u001b[0;31m \u001b[0mbas_1\u001b[0m\u001b[0;34m=\u001b[0m\u001b[0mBasket\u001b[0m\u001b[0;34m(\u001b[0m\u001b[0;34m)\u001b[0m\u001b[0;34m\u001b[0m\u001b[0;34m\u001b[0m\u001b[0m\n\u001b[0m\u001b[1;32m     10\u001b[0m \u001b[0mbas_1\u001b[0m\u001b[0;34m.\u001b[0m\u001b[0msum\u001b[0m\u001b[0;34m(\u001b[0m\u001b[0;36m4\u001b[0m\u001b[0;34m,\u001b[0m\u001b[0;36m5\u001b[0m\u001b[0;34m,\u001b[0m\u001b[0;36m9\u001b[0m\u001b[0;34m)\u001b[0m\u001b[0;34m\u001b[0m\u001b[0;34m\u001b[0m\u001b[0m\n",
      "\u001b[0;31mTypeError\u001b[0m: __init__() missing 1 required positional argument: 'items'"
     ]
    }
   ],
   "source": [
    "class Basket:\n",
    "    def __init__(self,items):\n",
    "        self.items=items\n",
    "    def sum(self,*arg):\n",
    "        s=0\n",
    "        for x in arg:\n",
    "            s+=x\n",
    "        return s\n",
    "bas_1=Basket()\n",
    "bas_1.sum(4,5,9)"
   ]
  },
  {
   "cell_type": "markdown",
   "metadata": {},
   "source": [
    "# method overriding (inheritance)"
   ]
  },
  {
   "cell_type": "code",
   "execution_count": null,
   "metadata": {},
   "outputs": [],
   "source": [
    "class Parent:\n",
    "    def walking(self):\n",
    "        print(\"parent is walking\")\n",
    "class Child(Parent):\n",
    "    def walking(self):\n",
    "        super().walking() # inorder to call parent,s method\n",
    "        print(\"child is walking\")\n",
    "fam=Child()\n",
    "fam.walking()"
   ]
  },
  {
   "cell_type": "markdown",
   "metadata": {},
   "source": [
    "# Abstract class"
   ]
  },
  {
   "cell_type": "code",
   "execution_count": null,
   "metadata": {},
   "outputs": [],
   "source": [
    "from abc import ABC,abstractmethod\n",
    "\n",
    "class Design(ABC):\n",
    "    @abstractmethod\n",
    "    def fingerprint(self):\n",
    "        pass\n",
    "class Mobile(Design):\n",
    "    def fingerprint(self):\n",
    "        print(\"fingerprint feature is included\")\n",
    "\n",
    "nokia=Mobile()\n",
    "nokia.fingerprint()"
   ]
  },
  {
   "cell_type": "markdown",
   "metadata": {},
   "source": [
    "# Problem statement: \n",
    "\"This#string%contains^special*characters&.\";   \n",
    " \n",
    "I want string without all special characters from above string\n",
    "\n",
    "\n"
   ]
  },
  {
   "cell_type": "code",
   "execution_count": 1,
   "metadata": {},
   "outputs": [
    {
     "name": "stdout",
     "output_type": "stream",
     "text": [
      "This string contains special characters .\n"
     ]
    }
   ],
   "source": [
    "import re\n",
    "print(re.sub('[#%^*&]', ' ', 'This#string%contains^special*characters&.',\n",
    "             flags=re.IGNORECASE))"
   ]
  },
  {
   "cell_type": "markdown",
   "metadata": {},
   "source": [
    "# Assignment 2\n",
    "\n",
    "read any text file from current directory try to find vowels from it as well as print occurances of all words in a dictionary\n",
    "\n",
    "find and print words which contain vowels\n"
   ]
  },
  {
   "cell_type": "code",
   "execution_count": 7,
   "metadata": {},
   "outputs": [
    {
     "name": "stdout",
     "output_type": "stream",
     "text": [
      "['Hello']['This', 'is', 'Delhi']['This', 'is', 'Paris']['This', 'is', 'London']"
     ]
    }
   ],
   "source": [
    "text = open(\"myfile.txt\", \"r\")\n",
    "p = re.compile('[a-zA-Z]*[aeiou][a-zA-Z]*')\n",
    "for line in text:\n",
    "    print(p.findall(line),end=\"\")"
   ]
  },
  {
   "cell_type": "code",
   "execution_count": null,
   "metadata": {},
   "outputs": [],
   "source": [
    "text = open(\"myfile.txt\", \"r\")\n",
    "d={}\n",
    "#print(text.readlines())\n",
    "for line in text:\n",
    "    #print(line)\n",
    "    line=line.strip()\n",
    "    #print(line)\n",
    "    words = line.split(\" \")\n",
    "    #print(words)\n",
    "    for word in words:\n",
    "        if word in d:\n",
    "            d[word]+=1\n",
    "        else:\n",
    "            d[word]=1\n",
    "print(d)\n"
   ]
  },
  {
   "cell_type": "code",
   "execution_count": 6,
   "metadata": {},
   "outputs": [
    {
     "ename": "AttributeError",
     "evalue": "'NoneType' object has no attribute 'start'",
     "output_type": "error",
     "traceback": [
      "\u001b[0;31m---------------------------------------------------------------------------\u001b[0m",
      "\u001b[0;31mAttributeError\u001b[0m                            Traceback (most recent call last)",
      "\u001b[0;32m<ipython-input-6-f6cc02f0d5b0>\u001b[0m in \u001b[0;36m<module>\u001b[0;34m\u001b[0m\n\u001b[1;32m      5\u001b[0m \u001b[0mmatch\u001b[0m \u001b[0;34m=\u001b[0m \u001b[0mre\u001b[0m\u001b[0;34m.\u001b[0m\u001b[0msearch\u001b[0m\u001b[0;34m(\u001b[0m\u001b[0;34mr'\\t'\u001b[0m\u001b[0;34m,\u001b[0m \u001b[0ms\u001b[0m\u001b[0;34m)\u001b[0m\u001b[0;34m\u001b[0m\u001b[0;34m\u001b[0m\u001b[0m\n\u001b[1;32m      6\u001b[0m \u001b[0;34m\u001b[0m\u001b[0m\n\u001b[0;32m----> 7\u001b[0;31m \u001b[0mprint\u001b[0m\u001b[0;34m(\u001b[0m\u001b[0;34m'Start Index:'\u001b[0m\u001b[0;34m,\u001b[0m \u001b[0mmatch\u001b[0m\u001b[0;34m.\u001b[0m\u001b[0mstart\u001b[0m\u001b[0;34m(\u001b[0m\u001b[0;34m)\u001b[0m\u001b[0;34m)\u001b[0m\u001b[0;34m\u001b[0m\u001b[0;34m\u001b[0m\u001b[0m\n\u001b[0m\u001b[1;32m      8\u001b[0m \u001b[0mprint\u001b[0m\u001b[0;34m(\u001b[0m\u001b[0;34m'End Index:'\u001b[0m\u001b[0;34m,\u001b[0m \u001b[0mmatch\u001b[0m\u001b[0;34m.\u001b[0m\u001b[0mend\u001b[0m\u001b[0;34m(\u001b[0m\u001b[0;34m)\u001b[0m\u001b[0;34m)\u001b[0m\u001b[0;34m\u001b[0m\u001b[0;34m\u001b[0m\u001b[0m\n",
      "\u001b[0;31mAttributeError\u001b[0m: 'NoneType' object has no attribute 'start'"
     ]
    }
   ],
   "source": [
    "import re\n",
    "\n",
    "s = 'GeeksforGeeks: A computer science portal for geeks'\n",
    "\n",
    "match = re.search(r'\\t', s)\n",
    "\n",
    "print('Start Index:', match.start())\n",
    "print('End Index:', match.end())\n"
   ]
  },
  {
   "cell_type": "code",
   "execution_count": 11,
   "metadata": {},
   "outputs": [
    {
     "name": "stdout",
     "output_type": "stream",
     "text": [
      "['123456789', '987654321']\n"
     ]
    }
   ],
   "source": [
    "# A Python program to demonstrate working of\n",
    "# findall()\n",
    "import re\n",
    "\n",
    "# A sample text string where regular expression\n",
    "# is searched.\n",
    "string = \"\"\"Hello my Number is 123456789 and\n",
    "\t\t\tmy friend's number is 987654321\"\"\"\n",
    "\n",
    "# A sample regular expression to find digits.\n",
    "regex = '[0-9]+'\n",
    "\n",
    "match = re.findall(regex, string)\n",
    "print(match)\n",
    "\n",
    "# This example is contributed by Ayush Saluja.\n"
   ]
  },
  {
   "cell_type": "code",
   "execution_count": 14,
   "metadata": {},
   "outputs": [
    {
     "name": "stdout",
     "output_type": "stream",
     "text": [
      "['e', 'a', 'd', 'b', 'e', 'a']\n"
     ]
    }
   ],
   "source": [
    "# Module Regular Expression is imported\n",
    "# using __import__().\n",
    "import re\n",
    "\n",
    "# compile() creates regular expression\n",
    "# character class [a-e],\n",
    "# which is equivalent to [abcde].\n",
    "# class [abcde] will match with string with\n",
    "# 'a', 'b', 'c', 'd', 'e'.\n",
    "regex='[a-e]'\n",
    "\n",
    "# findall() searches for the Regular Expression\n",
    "# and return a list upon finding\n",
    "print(re.findall(regex,\"Aye, said Mr. Gibenson Stark\"))\n"
   ]
  },
  {
   "cell_type": "code",
   "execution_count": 24,
   "metadata": {},
   "outputs": [
    {
     "name": "stdout",
     "output_type": "stream",
     "text": [
      "('S\\nject has Uber booked already', 1)\n",
      "('S~*ject has ~*er booked already', 2)\n",
      "2\n",
      "S~*ject has ~*er booked already\n"
     ]
    }
   ],
   "source": [
    "import re\n",
    "\n",
    "print(re.subn('ub', '\\n', 'Subject has Uber booked already'))\n",
    "\n",
    "t = re.subn('ub', '~*', 'Subject has Uber booked already',\n",
    "\t\t\tflags=re.IGNORECASE)\n",
    "print(t)\n",
    "print(len(t))\n",
    "\n",
    "# This will give same output as sub() would have\n",
    "print(t[0])\n"
   ]
  },
  {
   "cell_type": "code",
   "execution_count": null,
   "metadata": {},
   "outputs": [],
   "source": []
  },
  {
   "cell_type": "code",
   "execution_count": null,
   "metadata": {},
   "outputs": [],
   "source": []
  }
 ],
 "metadata": {
  "kernelspec": {
   "display_name": "Python 3",
   "language": "python",
   "name": "python3"
  },
  "language_info": {
   "codemirror_mode": {
    "name": "ipython",
    "version": 3
   },
   "file_extension": ".py",
   "mimetype": "text/x-python",
   "name": "python",
   "nbconvert_exporter": "python",
   "pygments_lexer": "ipython3",
   "version": "3.8.10"
  }
 },
 "nbformat": 4,
 "nbformat_minor": 4
}
