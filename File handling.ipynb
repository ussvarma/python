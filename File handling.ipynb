{
 "cells": [
  {
   "cell_type": "code",
   "execution_count": 1,
   "metadata": {},
   "outputs": [],
   "source": [
    "## Reading file "
   ]
  },
  {
   "cell_type": "code",
   "execution_count": 2,
   "metadata": {},
   "outputs": [
    {
     "name": "stdout",
     "output_type": "stream",
     "text": [
      "Hello\n",
      "This is Delhi \n",
      "This is Paris \n",
      "This is London \n",
      "\n"
     ]
    }
   ],
   "source": [
    "file1 = open(\"myfile.txt\")\n",
    "  \n",
    "# Reading from file\n",
    "print(file1.read())\n",
    "  \n",
    "file1.close()"
   ]
  },
  {
   "cell_type": "code",
   "execution_count": 3,
   "metadata": {},
   "outputs": [],
   "source": [
    "file1 = open(\"myfile.txt\", \"a\")\n",
    "  \n",
    "# Writing to file\n",
    "file1.write(\"\\nWriting to file :)\")\n",
    "  \n",
    "# Closing file\n",
    "file1.close()"
   ]
  },
  {
   "cell_type": "code",
   "execution_count": 4,
   "metadata": {},
   "outputs": [
    {
     "name": "stdout",
     "output_type": "stream",
     "text": [
      "Hello\n",
      "This is Delhi \n",
      "This is Paris \n",
      "This is London \n",
      "\n"
     ]
    }
   ],
   "source": [
    "#writing to file using  string and mutliple strings\n",
    "\n",
    "file1 = open('myfile.txt', 'w')\n",
    "L = [\"This is Delhi \\n\", \"This is Paris \\n\", \"This is London \\n\"]\n",
    "s = \"Hello\\n\"\n",
    "  \n",
    "# Writing a string to file\n",
    "file1.write(s)\n",
    "  \n",
    "# Writing multiple strings\n",
    "# at a time\n",
    "file1.writelines(L)\n",
    "  \n",
    "# Closing file\n",
    "file1.close()\n",
    "  \n",
    "# Checking if the data is\n",
    "# written to file or not\n",
    "file1 = open('myfile.txt', 'r')\n",
    "print(file1.read())\n",
    "file1.close()"
   ]
  },
  {
   "cell_type": "code",
   "execution_count": null,
   "metadata": {},
   "outputs": [],
   "source": []
  }
 ],
 "metadata": {
  "kernelspec": {
   "display_name": "Python 3",
   "language": "python",
   "name": "python3"
  },
  "language_info": {
   "codemirror_mode": {
    "name": "ipython",
    "version": 3
   },
   "file_extension": ".py",
   "mimetype": "text/x-python",
   "name": "python",
   "nbconvert_exporter": "python",
   "pygments_lexer": "ipython3",
   "version": "3.8.10"
  }
 },
 "nbformat": 4,
 "nbformat_minor": 4
}
