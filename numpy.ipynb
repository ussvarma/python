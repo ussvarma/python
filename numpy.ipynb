{
 "cells": [
  {
   "cell_type": "code",
   "execution_count": 1,
   "metadata": {},
   "outputs": [
    {
     "name": "stdout",
     "output_type": "stream",
     "text": [
      "[1 2 3]\n"
     ]
    }
   ],
   "source": [
    "import numpy as np\n",
    "arr=np.array([1,2,3])\n",
    "print(arr)"
   ]
  },
  {
   "cell_type": "code",
   "execution_count": 2,
   "metadata": {},
   "outputs": [
    {
     "name": "stdout",
     "output_type": "stream",
     "text": [
      "[1 2 3]\n"
     ]
    }
   ],
   "source": [
    "arr1=np.array((1,2,3))\n",
    "print(arr1)"
   ]
  },
  {
   "cell_type": "code",
   "execution_count": 3,
   "metadata": {
    "scrolled": true
   },
   "outputs": [
    {
     "name": "stdout",
     "output_type": "stream",
     "text": [
      "[[ 0  1  2  3]\n",
      " [ 4  5  6  7]\n",
      " [ 8  9 10 11]\n",
      " [12 13 14 15]]\n"
     ]
    }
   ],
   "source": [
    "arr2=np.arange(16).reshape(4,4)\n",
    "print(arr2)"
   ]
  },
  {
   "cell_type": "markdown",
   "metadata": {},
   "source": [
    "#adding 10 to every element"
   ]
  },
  {
   "cell_type": "code",
   "execution_count": 4,
   "metadata": {},
   "outputs": [
    {
     "name": "stdout",
     "output_type": "stream",
     "text": [
      "[[10.1 11.1 12.1 13.1]\n",
      " [14.1 15.1 16.1 17.1]\n",
      " [18.1 19.1 20.1 21.1]\n",
      " [22.1 23.1 24.1 25.1]]\n"
     ]
    }
   ],
   "source": [
    "#adding 10 to every element\n",
    "arr2=arr2+10.1\n",
    "print(arr2)"
   ]
  },
  {
   "cell_type": "code",
   "execution_count": 5,
   "metadata": {},
   "outputs": [
    {
     "name": "stdout",
     "output_type": "stream",
     "text": [
      "281.6\n"
     ]
    }
   ],
   "source": [
    "#sum of all elements in array\n",
    "print(arr2.sum())"
   ]
  },
  {
   "cell_type": "code",
   "execution_count": 6,
   "metadata": {},
   "outputs": [
    {
     "name": "stdout",
     "output_type": "stream",
     "text": [
      "float64\n"
     ]
    }
   ],
   "source": [
    "#finding out datatype of array\n",
    "print(arr2.dtype)"
   ]
  },
  {
   "cell_type": "code",
   "execution_count": 7,
   "metadata": {},
   "outputs": [
    {
     "name": "stdout",
     "output_type": "stream",
     "text": [
      "[[1. 2. 3.]\n",
      " [4. 5. 6.]]\n",
      "float64\n"
     ]
    }
   ],
   "source": [
    "a=np.array([[1,2,3],[4,5,6]],dtype=\"float\")\n",
    "print(a)\n",
    "print(a.dtype)"
   ]
  },
  {
   "cell_type": "code",
   "execution_count": 8,
   "metadata": {},
   "outputs": [
    {
     "name": "stdout",
     "output_type": "stream",
     "text": [
      "[[1. 2. 3.]\n",
      " [4. 5. 6.]]\n"
     ]
    }
   ],
   "source": [
    "arr3=np.array(((1,2,3),(4,5,6)),dtype=\"float\")\n",
    "print(arr3)"
   ]
  },
  {
   "cell_type": "code",
   "execution_count": 9,
   "metadata": {},
   "outputs": [
    {
     "name": "stdout",
     "output_type": "stream",
     "text": [
      "[[0. 0. 0. 0.]\n",
      " [0. 0. 0. 0.]\n",
      " [0. 0. 0. 0.]]\n"
     ]
    }
   ],
   "source": [
    "#creating zeros \n",
    "arr4=np.zeros((3,4))\n",
    "print(arr4)"
   ]
  },
  {
   "cell_type": "code",
   "execution_count": 10,
   "metadata": {},
   "outputs": [
    {
     "name": "stdout",
     "output_type": "stream",
     "text": [
      "[[0.38096551 0.68194887]\n",
      " [0.31915641 0.41754633]]\n"
     ]
    }
   ],
   "source": [
    "#creating random values\n",
    "arr5=np.random.random((2,2))\n",
    "print(arr5)"
   ]
  },
  {
   "cell_type": "code",
   "execution_count": 11,
   "metadata": {},
   "outputs": [
    {
     "name": "stdout",
     "output_type": "stream",
     "text": [
      "[0.         0.55555556 1.11111111 1.66666667 2.22222222 2.77777778\n",
      " 3.33333333 3.88888889 4.44444444 5.        ]\n"
     ]
    }
   ],
   "source": [
    "# usage of linspace \n",
    "arr6=np.linspace(0,5,10)\n",
    "print(arr6)"
   ]
  },
  {
   "cell_type": "code",
   "execution_count": 12,
   "metadata": {},
   "outputs": [
    {
     "name": "stdout",
     "output_type": "stream",
     "text": [
      "[1 2 3 4 5 6]\n"
     ]
    }
   ],
   "source": [
    "#using flatten array\n",
    "arr7=np.array([[1,2,3],[4,5,6]])\n",
    "print(arr7.flatten()) #converted 2d into 1 d"
   ]
  },
  {
   "cell_type": "markdown",
   "metadata": {},
   "source": [
    "# Indexing methods\n"
   ]
  },
  {
   "cell_type": "code",
   "execution_count": 42,
   "metadata": {
    "scrolled": true
   },
   "outputs": [
    {
     "name": "stdout",
     "output_type": "stream",
     "text": [
      "[[ 0  1  2  3]\n",
      " [ 4  5  6  7]\n",
      " [ 8  9 10 11]\n",
      " [12 13 14 15]]\n",
      "\n",
      "[ 6 13  1]\n",
      "\n",
      "[ 6  7  8  9 10 11 12 13 14 15]\n"
     ]
    }
   ],
   "source": [
    "arr8=np.arange(16).reshape(4,4)\n",
    "print(arr8)\n",
    "#indexing using interger indexing\n",
    "temp=arr8[[1,3,0],[2,1,1]]\n",
    "print()\n",
    "print(temp)\n",
    "cond=arr8>5\n",
    "print()\n",
    "print(arr8[cond]) #filtering with condition"
   ]
  },
  {
   "cell_type": "code",
   "execution_count": 14,
   "metadata": {},
   "outputs": [
    {
     "name": "stdout",
     "output_type": "stream",
     "text": [
      "[[ 0  4  8 12]\n",
      " [ 1  5  9 13]\n",
      " [ 2  6 10 14]\n",
      " [ 3  7 11 15]]\n"
     ]
    }
   ],
   "source": [
    "#transpose of a above matrix\n",
    "print(arr8.T)"
   ]
  },
  {
   "cell_type": "code",
   "execution_count": 44,
   "metadata": {},
   "outputs": [
    {
     "name": "stdout",
     "output_type": "stream",
     "text": [
      "[[ 0  1  2  3]\n",
      " [ 4  5  6  7]\n",
      " [ 8  9 10 11]\n",
      " [12 13 14 15]]\n",
      "[ 0  4  8 12]\n",
      "\n",
      "[12 13 14 15]\n",
      "\n",
      "[ 6 22 38 54]\n"
     ]
    }
   ],
   "source": [
    "#finding max,min,sum in array wrt axis\n",
    "print(arr8)\n",
    "print(arr8.min(axis=1))\n",
    "print()\n",
    "print(arr8.max(axis=0))\n",
    "print()\n",
    "print(arr8.sum(axis=1))\n"
   ]
  },
  {
   "cell_type": "code",
   "execution_count": 16,
   "metadata": {},
   "outputs": [
    {
     "name": "stdout",
     "output_type": "stream",
     "text": [
      "[[ 56  62  68  74]\n",
      " [152 174 196 218]\n",
      " [248 286 324 362]\n",
      " [344 398 452 506]]\n"
     ]
    }
   ],
   "source": [
    "# for matrix multiplication\n",
    "print(arr8.dot(arr8))"
   ]
  },
  {
   "cell_type": "code",
   "execution_count": 46,
   "metadata": {},
   "outputs": [
    {
     "name": "stdout",
     "output_type": "stream",
     "text": [
      "[[  0   1   2   3]\n",
      " [-10   2   6   7]\n",
      " [  8   9  -6  11]\n",
      " [ 12   1  14  15]]\n",
      "\n",
      "[-10  -6   0   1   1   2   2   3   6   7   8   9  11  12  14  15]\n",
      "\n",
      "[[  0   1   2   3]\n",
      " [-10   2   6   7]\n",
      " [ -6   8   9  11]\n",
      " [  1  12  14  15]]\n",
      "\n",
      "[[-10   1  -6   3]\n",
      " [  0   1   2   7]\n",
      " [  8   2   6  11]\n",
      " [ 12   9  14  15]]\n"
     ]
    }
   ],
   "source": [
    "#sorting of array\n",
    "arr8=np.array([[0,1,2,3],[-10,2,6,7],[8,9,-6,11],[12,1,14,15]])\n",
    "print(arr8)\n",
    "print()\n",
    "print(np.sort(arr8,axis=None))\n",
    "print()\n",
    "print(np.sort(arr8,axis=1))\n",
    "print()\n",
    "print(np.sort(arr8,axis=0))"
   ]
  },
  {
   "cell_type": "code",
   "execution_count": 47,
   "metadata": {},
   "outputs": [
    {
     "name": "stdout",
     "output_type": "stream",
     "text": [
      "[(b'varma', 2018, 8.02) (b'kalyan', 2002, 9.  ) (b'mukesh', 2020, 8.5 )]\n",
      "\n",
      "[(b'kalyan', 2002, 9.  ) (b'mukesh', 2020, 8.5 ) (b'varma', 2018, 8.02)]\n",
      "\n",
      "[(b'kalyan', 2002, 9.  ) (b'varma', 2018, 8.02) (b'mukesh', 2020, 8.5 )]\n"
     ]
    }
   ],
   "source": [
    "#sorting of structured array\n",
    "dtypes=[(\"name\",'S10'),(\"grad_year\",int),(\"cgpa\",float)]\n",
    "values=[('varma',2018,8.02),('kalyan',2002,9),('mukesh',2020,8.5)]\n",
    "arr=np.array(values,dtype=dtypes)\n",
    "print(arr)\n",
    "print()\n",
    "#sorting using name\n",
    "print(np.sort(arr,order=\"name\"))\n",
    "print()\n",
    "print(np.sort(arr,order=[\"grad_year\",\"cgpa\"]))"
   ]
  },
  {
   "cell_type": "code",
   "execution_count": 49,
   "metadata": {},
   "outputs": [
    {
     "name": "stdout",
     "output_type": "stream",
     "text": [
      "[[1 2]\n",
      " [3 4]\n",
      " [5 6]\n",
      " [7 8]]\n",
      "\n",
      "[[1 2 5 6]\n",
      " [3 4 7 8]]\n",
      "\n",
      "[[1 2 5 6]\n",
      " [3 4 7 8]]\n"
     ]
    }
   ],
   "source": [
    "#stacking\n",
    "a=np.array([[1,2],[3,4]])\n",
    "b=np.array([[5,6],[7,8]])\n",
    "\n",
    "print(np.vstack((a,b))) #vertical stack\n",
    "\n",
    "print()\n",
    "print(np.hstack((a,b)))  #horizontal stack\n",
    "print()\n",
    "\n",
    "print(np.concatenate((a, b), 1)) #concatination using along "
   ]
  },
  {
   "cell_type": "code",
   "execution_count": 52,
   "metadata": {},
   "outputs": [
    {
     "name": "stdout",
     "output_type": "stream",
     "text": [
      "[[ 1  2 34 55]\n",
      " [ 2  3  4  6]]\n",
      "\n",
      "[array([[1, 2],\n",
      "       [2, 3]]), array([[34, 55],\n",
      "       [ 4,  6]])]\n",
      "\n",
      "[array([[ 1,  2, 34, 55]]), array([[2, 3, 4, 6]])]\n"
     ]
    }
   ],
   "source": [
    "c=np.array([[1,2,34,55],[2,3,4,6]])\n",
    "print(c)\n",
    "print()\n",
    "print(np.hsplit(c,2)) #horizontal split\n",
    "print()\n",
    "print(np.vsplit(c,2)) #vertical split"
   ]
  },
  {
   "cell_type": "code",
   "execution_count": 54,
   "metadata": {},
   "outputs": [
    {
     "name": "stdout",
     "output_type": "stream",
     "text": [
      "[[ 0.  1.  2.]\n",
      " [10. 11. 12.]\n",
      " [20. 21. 22.]\n",
      " [30. 31. 32.]]\n"
     ]
    }
   ],
   "source": [
    "#broadcasting\n",
    "a = np.array([0.0, 10.0, 20.0, 30.0])\n",
    "b = np.array([0.0, 1.0, 2.0])\n",
    "print(a[:, np.newaxis] + b)"
   ]
  },
  {
   "cell_type": "code",
   "execution_count": 57,
   "metadata": {},
   "outputs": [
    {
     "name": "stdout",
     "output_type": "stream",
     "text": [
      "2022-03-18\n",
      "2022\n",
      "['2022-02-01' '2022-02-02' '2022-02-03' '2022-02-04' '2022-02-05'\n",
      " '2022-02-06' '2022-02-07' '2022-02-08' '2022-02-09' '2022-02-10'\n",
      " '2022-02-11' '2022-02-12' '2022-02-13' '2022-02-14' '2022-02-15'\n",
      " '2022-02-16' '2022-02-17' '2022-02-18' '2022-02-19' '2022-02-20'\n",
      " '2022-02-21' '2022-02-22' '2022-02-23' '2022-02-24' '2022-02-25'\n",
      " '2022-02-26' '2022-02-27' '2022-02-28']\n",
      "\n",
      "Dates in sorted order: ['2021-02-12' '2021-05-22' '2021-10-13']\n"
     ]
    }
   ],
   "source": [
    "#datetime\n",
    "today = np.datetime64('2022-03-18')\n",
    "print(today)\n",
    "print(np.datetime64(today, 'Y')) #output year \n",
    "dates = np.arange('2022-02', '2022-03', dtype='datetime64[D]')\n",
    "print(dates)\n",
    "#sorting \n",
    "a = np.array(['2021-02-12', '2021-10-13', '2021-05-22'], dtype='datetime64')\n",
    "print(\"\\nDates in sorted order:\", np.sort(a))"
   ]
  },
  {
   "cell_type": "code",
   "execution_count": 56,
   "metadata": {},
   "outputs": [
    {
     "name": "stdout",
     "output_type": "stream",
     "text": [
      "('John', [6., 7.])\n",
      "Grades of John are:  [6. 7.]\n",
      "Names are:  ['Sarah' 'John']\n"
     ]
    }
   ],
   "source": [
    "#data type objects for generating structured arrays\n",
    "\n",
    "dt = np.dtype([('name', np.unicode_, 16),\n",
    "               ('grades', np.float64, (2,))])\n",
    "x = np.array([('Sarah', (8.0, 7.0)),\n",
    "              ('John', (6.0, 7.0))], dtype=dt)\n",
    "\n",
    "print(x[1])\n",
    "\n",
    "print(\"Grades of John are: \", x[1]['grades'])\n",
    "print(\"Names are: \", x['name'])"
   ]
  },
  {
   "cell_type": "code",
   "execution_count": 71,
   "metadata": {},
   "outputs": [
    {
     "name": "stdout",
     "output_type": "stream",
     "text": [
      "1 7 2 3 3 2 \n",
      "5\n",
      "10\n",
      "15\n",
      "35\n",
      "15\n",
      "10\n",
      "\n",
      "modified array\n",
      "[[ 5 10 15]\n",
      " [35 15 10]]\n"
     ]
    }
   ],
   "source": [
    "#Iterations using numpy.nditer \n",
    "\n",
    "a=np.array([[1,2,3],[7,3,2]])\n",
    "for x in np.nditer(a, order = 'F'): \n",
    "    print(x,end=\" \")\n",
    "print()\n",
    "for x in np.nditer(a, op_flags = ['readwrite']): #for changing the values of matrix\n",
    "    x[...]= 5*x\n",
    "    print(x)\n",
    "print()\n",
    "print(\"modified array\")\n",
    "print(a)"
   ]
  },
  {
   "cell_type": "code",
   "execution_count": 25,
   "metadata": {},
   "outputs": [
    {
     "name": "stdout",
     "output_type": "stream",
     "text": [
      "[  2   0 113]\n",
      "[  3  11 127]\n",
      "[ 1 11 14]\n"
     ]
    }
   ],
   "source": [
    "#Binary Operators\n",
    "arr1 = np.array([2, 8, 125])\n",
    "arr2 = np.array([3, 3, 115])\n",
    "print(np.bitwise_and(arr1,arr2)) #using bitwise and operator\n",
    "print(np.bitwise_or(arr1,arr2)) #using bitwise or operator\n",
    "print(np.bitwise_xor(arr1,arr2)) #using bitwise xor"
   ]
  },
  {
   "cell_type": "code",
   "execution_count": 72,
   "metadata": {},
   "outputs": [
    {
     "name": "stdout",
     "output_type": "stream",
     "text": [
      "1010\n"
     ]
    }
   ],
   "source": [
    "#binary representation of given number\n",
    "print(np.binary_repr(10))"
   ]
  },
  {
   "cell_type": "code",
   "execution_count": 73,
   "metadata": {},
   "outputs": [
    {
     "name": "stdout",
     "output_type": "stream",
     "text": [
      "[0.00000000e+00 7.07106781e-01 1.00000000e+00 1.22464680e-16]\n",
      "[ 1.00000000e+00  7.07106781e-01  6.12323400e-17 -1.00000000e+00]\n"
     ]
    }
   ],
   "source": [
    "#mathematical function\n",
    "import math\n",
    "arr1=[0,math.pi/4,math.pi/2,math.pi]\n",
    "print(np.sin(arr1)) #using sine funciton which takes input in radians\n",
    "print(np.cos(arr1)) #using cosine funciton which takes input in radians"
   ]
  },
  {
   "cell_type": "code",
   "execution_count": 28,
   "metadata": {},
   "outputs": [
    {
     "name": "stdout",
     "output_type": "stream",
     "text": [
      "[0.554 1.334 0.714]\n",
      "[0. 1. 0.]\n",
      "[1.73985191 3.794452   2.04306269]\n",
      "[-0.59095167  0.28783706 -0.33624226]\n"
     ]
    }
   ],
   "source": [
    "#round off numbers\n",
    "arr2 = [.5538, 1.33354, .71445]\n",
    "print(np.round(arr2,decimals=3))\n",
    "print(np.floor(arr2))\n",
    "print(np.exp(arr2))\n",
    "print(np.log(arr2))"
   ]
  },
  {
   "cell_type": "code",
   "execution_count": 29,
   "metadata": {},
   "outputs": [
    {
     "name": "stdout",
     "output_type": "stream",
     "text": [
      "[1.         9.         0.5        4.2        3.83333333]\n",
      "[1.         9.         0.5        4.2        3.83333333]\n"
     ]
    }
   ],
   "source": [
    "arr1 = np.array([2, 27, 2, 21, 23])\n",
    "arr2 = np.array([2, 3, 4, 5, 6])\n",
    "print(arr1/arr2)\n",
    "print(np.divide(arr1,arr2))"
   ]
  },
  {
   "cell_type": "code",
   "execution_count": 30,
   "metadata": {},
   "outputs": [
    {
     "name": "stdout",
     "output_type": "stream",
     "text": [
      "conjugate of arr1: [ 4.-5.j 20.-2.j]\n",
      "[  1.  30.   4. -10.]\n"
     ]
    }
   ],
   "source": [
    "#finding conjugate of complex numbers\n",
    "arr1=np.array([4+5j,20+2j])\n",
    "print(\"conjugate of arr1:\",np.conj(arr1))\n",
    "arr1 = np.array([1, 27000, 64, -1000])\n",
    "print(np.cbrt(arr1)) #for finding cube root of given array"
   ]
  },
  {
   "cell_type": "code",
   "execution_count": 74,
   "metadata": {},
   "outputs": [
    {
     "name": "stdout",
     "output_type": "stream",
     "text": [
      "Input array :  [1 2 3 4 5 6 7 8]\n",
      "Output array :  [2 2 3 4 5 6 6 6]\n"
     ]
    }
   ],
   "source": [
    "#clipping number below and above range \n",
    "in_array = np.array([1, 2, 3, 4, 5, 6, 7, 8 ])\n",
    "print (\"Input array : \", in_array)\n",
    " \n",
    "out_array = np.clip(in_array, a_min = 2, a_max = 6)\n",
    "print (\"Output array : \", out_array)"
   ]
  },
  {
   "cell_type": "code",
   "execution_count": 75,
   "metadata": {},
   "outputs": [
    {
     "name": "stdout",
     "output_type": "stream",
     "text": [
      "['hello ' 'folks']\n",
      "['HELLO', 'Rowdies']\n"
     ]
    }
   ],
   "source": [
    "arr2=np.array([\"HELLO \",\"folks\"])\n",
    "print(np.char.lower(arr2))\n",
    "print(np.char.split(\"HELLO Rowdies\"))"
   ]
  },
  {
   "cell_type": "code",
   "execution_count": 79,
   "metadata": {},
   "outputs": [
    {
     "name": "stdout",
     "output_type": "stream",
     "text": [
      "['t-o-d-a-y- -i-s- -g-r-e-a-t' 'f:o:r']\n",
      "['t-o-d-a-y- -i-s- -g-r-e-a-t' 'f:o:r']\n",
      "[1 0]\n",
      "[0 1]\n"
     ]
    }
   ],
   "source": [
    "#joining a string\n",
    "arr1=np.array(['today is great', 'for'])\n",
    "print(np.char.join(['-', ':'], ['today is great', 'for']))\n",
    "print(np.char.join(['-', ':'], arr1))\n",
    "\n",
    "#counting no of substring\n",
    "print(np.char.count(arr1,'today'))\n",
    "print(np.char.count(arr1,'for'))\n"
   ]
  },
  {
   "cell_type": "code",
   "execution_count": 77,
   "metadata": {},
   "outputs": [
    {
     "name": "stdout",
     "output_type": "stream",
     "text": [
      "[ 6 -1 -1]\n",
      "[-1  7  0]\n"
     ]
    }
   ],
   "source": [
    "a=np.array(['johny johny yes  papa', 'eating sugar', 'sugar no papa'])\n",
    " \n",
    "# finding a higest index of substring or else returns -1 \n",
    "print(np.char.rfind(a,'johny'))\n",
    " \n",
    "# counting a substring\n",
    "print(np.char.rfind(a, 'sugar'))"
   ]
  },
  {
   "cell_type": "code",
   "execution_count": 35,
   "metadata": {},
   "outputs": [
    {
     "name": "stdout",
     "output_type": "stream",
     "text": [
      "Rank of A: 3\n",
      "\n",
      "Trace of A: 11\n",
      "\n",
      "Determinant of A: -306.0\n",
      "\n",
      "Inverse of A:\n",
      " [[ 0.17647059 -0.00326797 -0.02287582]\n",
      " [ 0.05882353 -0.13071895  0.08496732]\n",
      " [-0.11764706  0.1503268   0.05228758]]\n",
      "\n",
      "Matrix A raised to power 3:\n",
      " [[336 162 228]\n",
      " [406 162 469]\n",
      " [698 702 905]]\n"
     ]
    }
   ],
   "source": [
    "A = np.array([[6, 1, 1],\n",
    "              [4, -2, 5],\n",
    "              [2, 8, 7]])\n",
    "print(\"Rank of A:\", np.linalg.matrix_rank(A))\n",
    "print(\"\\nTrace of A:\", np.trace(A))\n",
    "print(\"\\nDeterminant of A:\", np.linalg.det(A))\n",
    "print(\"\\nInverse of A:\\n\", np.linalg.inv(A))\n",
    "print(\"\\nMatrix A raised to power 3:\\n\",\n",
    "           np.linalg.matrix_power(A, 3))"
   ]
  },
  {
   "cell_type": "code",
   "execution_count": 36,
   "metadata": {},
   "outputs": [
    {
     "name": "stdout",
     "output_type": "stream",
     "text": [
      "Array is : [[-5  2]\n",
      " [-7  4]]\n",
      "Eigen value is : [-3.  2.]\n",
      "Eigen value is : [[-0.70710678 -0.27472113]\n",
      " [-0.70710678 -0.96152395]]\n"
     ]
    }
   ],
   "source": [
    "a = np.array([[-5,2],[-7,4]])\n",
    " \n",
    "print(\"Array is :\",a)\n",
    " \n",
    "# calculating an eigen value\n",
    "# using eig() function\n",
    "c, d = np.linalg.eig(a)\n",
    " \n",
    "print(\"Eigen value is :\",c) #gives eigen values\n",
    "print(\"Eigen value is :\",d) #gives eigen vector\n"
   ]
  },
  {
   "cell_type": "code",
   "execution_count": 37,
   "metadata": {},
   "outputs": [
    {
     "name": "stdout",
     "output_type": "stream",
     "text": [
      "('Solution of linear equations:', array([2., 3.]))\n"
     ]
    }
   ],
   "source": [
    "#solving a linear equation\n",
    "a = np.array([[1, 2], [3, 4]]) #coefficeinet of equation\n",
    "\n",
    "b = np.array([8, 18]) #constants of equation\n",
    " \n",
    "print((\"Solution of linear equations:\", \n",
    "      np.linalg.solve(a, b)))"
   ]
  },
  {
   "cell_type": "code",
   "execution_count": 82,
   "metadata": {},
   "outputs": [
    {
     "name": "stdout",
     "output_type": "stream",
     "text": [
      "\n",
      "Along first axis : \n",
      " [[10 15]\n",
      " [ 1 12]]\n",
      "a: [9 3 1 7 4 3 6]\n",
      "b: [2 1 5 4 6 3 0]\n",
      "Sorted array-> [1, 3, 3, 4, 6, 7, 9]\n"
     ]
    }
   ],
   "source": [
    "#sorting of an array using argsoft method\n",
    "\n",
    "a = np.array([[10, 15], [12, 1]])\n",
    "arr2 = np.sort(a, axis = -1)        \n",
    "print (\"\\nAlong first axis : \\n\", arr2)\n",
    "a = np.array([9, 3, 1, 7, 4, 3, 6])\n",
    "print(\"a:\",a)\n",
    "b = np.argsort(a) #gives values of indices of sorted array\n",
    "print(\"b:\",b)\n",
    "# To get sorted array using sorted indices\n",
    "# c is temp array created of same len as of b\n",
    "c = []\n",
    "for i in range(0, len(b)):\n",
    "    c.append(a[b[i]])\n",
    "print('Sorted array->', c)\n"
   ]
  },
  {
   "cell_type": "code",
   "execution_count": 81,
   "metadata": {},
   "outputs": [
    {
     "name": "stdout",
     "output_type": "stream",
     "text": [
      "column a, column b\n",
      "9   4\n",
      "3   6\n",
      "1   9\n",
      "3   2\n",
      "4   1\n",
      "3   8\n",
      "6   7\n",
      "Sorted indices-> [2 3 1 5 4 6 0]\n"
     ]
    }
   ],
   "source": [
    "#lexsort \n",
    "a = np.array([9, 3, 1, 3, 4, 3, 6])\n",
    " \n",
    "# Second column \n",
    "b = np.array([4, 6, 9, 2, 1, 8, 7]) \n",
    "print('column a, column b')\n",
    "for (i, j) in zip(a, b):\n",
    "    print(i, ' ', j)\n",
    "\n",
    "# Sort by a then by b\n",
    "ind = np.lexsort((b, a)) \n",
    "print('Sorted indices->', ind)"
   ]
  },
  {
   "cell_type": "code",
   "execution_count": 80,
   "metadata": {
    "scrolled": false
   },
   "outputs": [
    {
     "name": "stdout",
     "output_type": "stream",
     "text": [
      "('\\nIndices of max in array2 : ', 5)\n",
      "('\\nIndices of min in array2 : ', 3)\n",
      "Number of nonzeros: 6\n",
      "Number of nonzeros: 4\n"
     ]
    }
   ],
   "source": [
    "array2 = np.array([[np.nan, 4,9], [1, 3,12]])\n",
    "# returning Indices of the max element\n",
    "# as per the indices ingnoring NaN\n",
    "print((\"\\nIndices of max in array2 : \", np.nanargmax(array2)))\n",
    "\n",
    "print((\"\\nIndices of min in array2 : \", np.nanargmin(array2))) #returning indices of min element\n",
    "\n",
    "print(\"Number of nonzeros:\",np.count_nonzero(array2))\n",
    "a=np.array([[1,2,3],[0,0,3]])\n",
    "print(\"Number of nonzeros:\",np.count_nonzero(a))\n"
   ]
  },
  {
   "cell_type": "code",
   "execution_count": null,
   "metadata": {},
   "outputs": [],
   "source": []
  }
 ],
 "metadata": {
  "kernelspec": {
   "display_name": "Python 3",
   "language": "python",
   "name": "python3"
  },
  "language_info": {
   "codemirror_mode": {
    "name": "ipython",
    "version": 3
   },
   "file_extension": ".py",
   "mimetype": "text/x-python",
   "name": "python",
   "nbconvert_exporter": "python",
   "pygments_lexer": "ipython3",
   "version": "3.8.10"
  }
 },
 "nbformat": 4,
 "nbformat_minor": 2
}
