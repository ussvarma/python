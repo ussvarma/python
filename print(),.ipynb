{
 "cells": [
  {
   "cell_type": "code",
   "execution_count": 2,
   "metadata": {},
   "outputs": [
    {
     "name": "stdout",
     "output_type": "stream",
     "text": [
      "This is the first statement**This is the second statement\n"
     ]
    }
   ],
   "source": [
    "#usage of end\n",
    "print (\"This is the first statement\", end= \"**\")\n",
    "print(\"This is the second statement\")\n"
   ]
  },
  {
   "cell_type": "code",
   "execution_count": 8,
   "metadata": {},
   "outputs": [
    {
     "name": "stdout",
     "output_type": "stream",
     "text": [
      "3>>>2>>>1>>>Start\n"
     ]
    }
   ],
   "source": [
    "import time\n",
    "\n",
    "count_seconds = 3\n",
    "for i in reversed(range(count_seconds + 1)):\n",
    "\tif i > 0:\n",
    "\t\tprint(i, end='>>>', flush = True) #flush is used to reduce buffering\n",
    "\t\ttime.sleep(1)\n",
    "\telse:\n",
    "\t\tprint('Start')\n"
   ]
  },
  {
   "cell_type": "code",
   "execution_count": 10,
   "metadata": {},
   "outputs": [
    {
     "name": "stdout",
     "output_type": "stream",
     "text": [
      "GeeksForGeeks\n",
      "x = 5\n",
      "G*F*G\n",
      "Python@GeeksforGeeks\n"
     ]
    }
   ],
   "source": [
    "\n",
    "print(\"GeeksForGeeks\")\n",
    " \n",
    "x = 5\n",
    "\n",
    "print(\"x =\", x)\n",
    " \n",
    "\n",
    "print('G', 'F', 'G', sep='*')\n",
    " \n",
    "# using end argument\n",
    "print(\"Python\", end='@')\n",
    "print(\"GeeksforGeeks\")"
   ]
  },
  {
   "cell_type": "code",
   "execution_count": null,
   "metadata": {},
   "outputs": [],
   "source": []
  }
 ],
 "metadata": {
  "kernelspec": {
   "display_name": "Python 3",
   "language": "python",
   "name": "python3"
  },
  "language_info": {
   "codemirror_mode": {
    "name": "ipython",
    "version": 3
   },
   "file_extension": ".py",
   "mimetype": "text/x-python",
   "name": "python",
   "nbconvert_exporter": "python",
   "pygments_lexer": "ipython3",
   "version": "3.8.10"
  }
 },
 "nbformat": 4,
 "nbformat_minor": 4
}
