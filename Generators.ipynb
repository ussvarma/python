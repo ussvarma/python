{
 "cells": [
  {
   "cell_type": "markdown",
   "metadata": {},
   "source": [
    "# generators function and objects"
   ]
  },
  {
   "cell_type": "code",
   "execution_count": 4,
   "metadata": {},
   "outputs": [
    {
     "name": "stdout",
     "output_type": "stream",
     "text": [
      "1\n",
      "2\n",
      "3\n"
     ]
    }
   ],
   "source": [
    "def simpleGeneratorFun(): #using generator function\n",
    "    yield 1            \n",
    "    yield 2            \n",
    "    yield 3   \n",
    "for value in simpleGeneratorFun(): \n",
    "    print(value)"
   ]
  },
  {
   "cell_type": "code",
   "execution_count": 6,
   "metadata": {},
   "outputs": [
    {
     "name": "stdout",
     "output_type": "stream",
     "text": [
      "1\n",
      "2\n",
      "3\n"
     ]
    }
   ],
   "source": [
    "def simpleGeneratorFun(): #using generator object can be used via next method or via for loop\n",
    "    yield 1\n",
    "    yield 2\n",
    "    yield 3\n",
    "x = simpleGeneratorFun()\n",
    "print(x.__next__()) # In Python 3, __next__()\n",
    "print(x.__next__())\n",
    "print(x.__next__())"
   ]
  },
  {
   "cell_type": "code",
   "execution_count": 8,
   "metadata": {},
   "outputs": [
    {
     "name": "stdout",
     "output_type": "stream",
     "text": [
      "0\n",
      "1\n",
      "1\n",
      "2\n",
      "3\n"
     ]
    }
   ],
   "source": [
    "#using generator object using for loop to generate fabinacco series\n",
    "\n",
    "def fabonacci(limit):\n",
    "    a,b=0,1\n",
    "    \n",
    "    while a<limit:\n",
    "        yield a\n",
    "        a,b=b,a+b\n",
    "for i in fabonacci(5):\n",
    "    print(i)"
   ]
  },
  {
   "cell_type": "markdown",
   "metadata": {},
   "source": [
    "# lambda functiodef create_adder(x):\n",
    "    def adder(y):\n",
    "        return x+y\n",
    "  \n",
    "    return adder\n",
    "  \n",
    "add_15 = create_adder(15)\n",
    "  \n",
    "print (add_15(10))n:\n"
   ]
  },
  {
   "cell_type": "code",
   "execution_count": 10,
   "metadata": {},
   "outputs": [
    {
     "name": "stdout",
     "output_type": "stream",
     "text": [
      "[100, 2, 8, 60, 4, 10]\n",
      "[True, True, True, True, False, True, False, False, True, False]\n"
     ]
    }
   ],
   "source": [
    "a = [100, 2, 8, 60, 5, 4, 3, 31, 10, 11]\n",
    "filtered = filter (lambda x: x % 2 == 0, a) #using lambda in filter\n",
    "print(list(filtered))\n",
    "mapped = map (lambda x: x % 2 == 0, a) #using lambda in map\n",
    "print(list(mapped))"
   ]
  },
  {
   "cell_type": "code",
   "execution_count": 19,
   "metadata": {},
   "outputs": [
    {
     "name": "stdout",
     "output_type": "stream",
     "text": [
      "25\n"
     ]
    }
   ],
   "source": [
    "def create_adder(x):\n",
    "    def adder(y):\n",
    "        return x+y\n",
    "  \n",
    "    return adder\n",
    "    print(x)\n",
    "  \n",
    "add_15 = create_adder(15)\n",
    "  \n",
    "print (add_15(10))"
   ]
  },
  {
   "cell_type": "code",
   "execution_count": null,
   "metadata": {},
   "outputs": [],
   "source": []
  }
 ],
 "metadata": {
  "kernelspec": {
   "display_name": "Python 3",
   "language": "python",
   "name": "python3"
  },
  "language_info": {
   "codemirror_mode": {
    "name": "ipython",
    "version": 3
   },
   "file_extension": ".py",
   "mimetype": "text/x-python",
   "name": "python",
   "nbconvert_exporter": "python",
   "pygments_lexer": "ipython3",
   "version": "3.8.10"
  }
 },
 "nbformat": 4,
 "nbformat_minor": 4
}
