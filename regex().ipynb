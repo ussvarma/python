{
 "cells": [
  {
   "cell_type": "markdown",
   "metadata": {},
   "source": [
    "### A Regular Expressions (RegEx) is a special sequence of characters that uses a search pattern to find a string or set of strings."
   ]
  },
  {
   "cell_type": "code",
   "execution_count": 5,
   "metadata": {},
   "outputs": [
    {
     "name": "stdout",
     "output_type": "stream",
     "text": [
      "Start Index: 13\n",
      "End Index: 19\n"
     ]
    }
   ],
   "source": [
    "import re\n",
    " \n",
    "s = 'please enter portal using given link'\n",
    " \n",
    "match = re.search(r'portal', s)\n",
    "print('Start Index:', match.start())\n",
    "print('End Index:', match.end())"
   ]
  },
  {
   "cell_type": "code",
   "execution_count": 7,
   "metadata": {},
   "outputs": [
    {
     "name": "stdout",
     "output_type": "stream",
     "text": [
      "<re.Match object; span=(0, 1), match='c'>\n",
      "<re.Match object; span=(7, 8), match='.'>\n"
     ]
    }
   ],
   "source": [
    "import re\n",
    "\n",
    "s = 'come on.folks'\n",
    "\n",
    "# without using \\\n",
    "match = re.search(r'.', s) #\".\" matches any character except newline\n",
    "print(match)\n",
    "\n",
    "# using \\\n",
    "match = re.search(r'\\.', s) \n",
    "print(match)\n"
   ]
  },
  {
   "cell_type": "code",
   "execution_count": 8,
   "metadata": {},
   "outputs": [
    {
     "name": "stdout",
     "output_type": "stream",
     "text": [
      "['123456789', '987654321']\n"
     ]
    }
   ],
   "source": [
    "import re\n",
    "\n",
    "string = \"\"\"Hello my Number is 123456789 and\n",
    "\t\t\tmy friend's number is 987654321\"\"\"\n",
    "\n",
    "# A sample regular expression to find digits.\n",
    "regex = '\\d+'\n",
    "\n",
    "match = re.findall(regex, string)\n",
    "print(match)\n",
    "\n",
    "# This example is contributed by Ayush Saluja.\n"
   ]
  },
  {
   "cell_type": "code",
   "execution_count": 9,
   "metadata": {},
   "outputs": [
    {
     "name": "stdout",
     "output_type": "stream",
     "text": [
      "['e', 'a', 'd', 'b', 'e', 'a']\n"
     ]
    }
   ],
   "source": [
    "\n",
    "p = re.compile('[a-e]') # a', 'b', 'c', 'd', 'e'\n",
    "\n",
    "# findall() searches for the Regular Expression\n",
    "# and return a list upon finding\n",
    "print(p.findall(\"Aye, said Mr. Gibenson Stark\"))\n"
   ]
  },
  {
   "cell_type": "code",
   "execution_count": 10,
   "metadata": {},
   "outputs": [
    {
     "name": "stdout",
     "output_type": "stream",
     "text": [
      "['1', '1', '4', '1', '8', '8', '6']\n",
      "['11', '4', '1886']\n"
     ]
    }
   ],
   "source": [
    "# \\d is equivalent to [0-9].\n",
    "p = re.compile('\\d') \n",
    "print(p.findall(\"I went to him at 11 A.M. on 4th July 1886\"))\n",
    "\n",
    "# \\d+ will match a group on [0-9], group\n",
    "p = re.compile('\\d+')\n",
    "print(p.findall(\"I went to him at 11 A.M. on 4th July 1886\"))\n"
   ]
  },
  {
   "cell_type": "code",
   "execution_count": 11,
   "metadata": {},
   "outputs": [
    {
     "name": "stdout",
     "output_type": "stream",
     "text": [
      "['On ', 'th Jan 2016, at 11:02 AM']\n",
      "['', 'y, ', 'oy oh ', 'oy, ', 'om', ' h', 'r', '']\n",
      "['A', 'y, Boy oh ', 'oy, ', 'om', ' h', 'r', '']\n"
     ]
    }
   ],
   "source": [
    "# using re.split\n",
    "\n",
    "# Splitting will occurs only once, at\n",
    "# '12', returned list will have length 2\n",
    "print(re.split('\\d+', 'On 12th Jan 2016, at 11:02 AM', 1))\n",
    "\n",
    "# 'Boy' and 'boy' will be treated same when flags = re.IGNORECASE\n",
    "\n",
    "print(re.split('[a-f]+', 'Aey, Boy oh boy, come here', flags=re.IGNORECASE))\n",
    "print(re.split('[a-f]+', 'Aey, Boy oh boy, come here'))\n"
   ]
  },
  {
   "cell_type": "code",
   "execution_count": 14,
   "metadata": {},
   "outputs": [
    {
     "name": "stdout",
     "output_type": "stream",
     "text": [
      "S~*ject has ~*er booked already\n",
      "S~*ject has Uber booked already\n",
      "S~*ject has Uber booked already\n",
      "Baked Beans & Spam\n"
     ]
    }
   ],
   "source": [
    "#re.sub() function is used for replacement\n",
    "import re\n",
    "print(re.sub('ub', '~*', 'Subject has Uber booked already',\n",
    "            flags=re.IGNORECASE))\n",
    "\n",
    "# Consider the Case Sensitivity, 'Ub' in\n",
    "# \"Uber\", will not be replaced.\n",
    "print(re.sub('ub', '~*', 'Subject has Uber booked already'))\n",
    "\n",
    "# As count has been given value 1, the maximum\n",
    "# times replacement occurs is 1\n",
    "print(re.sub('ub', '~*', 'Subject has Uber booked already',\n",
    "            count=1, flags=re.IGNORECASE))\n",
    "\n",
    "print(re.sub(r'\\sAND\\s', ' & ', 'Baked Beans And Spam',\n",
    "            flags=re.IGNORECASE))\n"
   ]
  },
  {
   "cell_type": "code",
   "execution_count": 16,
   "metadata": {},
   "outputs": [
    {
     "name": "stdout",
     "output_type": "stream",
     "text": [
      "('S~*ject has Uber booked already', 1)\n",
      "('S~*ject has ~*er booked already', 2)\n",
      "2\n",
      "S~*ject has ~*er booked already\n"
     ]
    }
   ],
   "source": [
    "#re.subn() -- is similar to substring, but it will return tuple with no of changes\n",
    "\n",
    "import re\n",
    "\n",
    "print(re.subn('ub', '~*', 'Subject has Uber booked already'))\n",
    "\n",
    "t = re.subn('ub', '~*', 'Subject has Uber booked already',\n",
    "        flags=re.IGNORECASE)\n",
    "print(t)\n",
    "print(len(t))\n",
    "\n",
    "# This will give same output as sub() would have\n",
    "print(t[0])\n"
   ]
  },
  {
   "cell_type": "code",
   "execution_count": null,
   "metadata": {},
   "outputs": [],
   "source": [
    "##re.escape()  \n",
    "import re\n",
    "\n",
    "# escape() returns a string with BackSlash '\\',\n",
    "# before every Non-Alphanumeric Character\n",
    "# In 1st case only ' ', is not alphanumeric\n",
    "# In 2nd case, ' ', caret '^', '-', '[]', '\\'\n",
    "# are not alphanumeric\n",
    "print(re.escape(\"This is Awesome even 1 AM\"))\n",
    "print(re.escape(\"I Asked what is this [a-9], he said \\t ^WoW\"))\n"
   ]
  }
 ],
 "metadata": {
  "kernelspec": {
   "display_name": "Python 3",
   "language": "python",
   "name": "python3"
  },
  "language_info": {
   "codemirror_mode": {
    "name": "ipython",
    "version": 3
   },
   "file_extension": ".py",
   "mimetype": "text/x-python",
   "name": "python",
   "nbconvert_exporter": "python",
   "pygments_lexer": "ipython3",
   "version": "3.8.10"
  }
 },
 "nbformat": 4,
 "nbformat_minor": 4
}
